{
 "cells": [
  {
   "cell_type": "markdown",
   "metadata": {},
   "source": [
    "# Tensorboard\n",
    "\n",
    "\n",
    "Let's explore the built in data visualization capabilities that come with Tensorboard.\n",
    "\n",
    "Full official tutorial available here: https://www.tensorflow.org/tensorboard/get_started\n",
    "\n",
    "## Data"
   ]
  },
  {
   "cell_type": "code",
   "execution_count": 1,
   "metadata": {},
   "outputs": [],
   "source": [
    "import pandas as pd\n",
    "import numpy as np\n",
    "\n",
    "from sklearn.model_selection import train_test_split\n",
    "from sklearn.preprocessing import MinMaxScaler\n",
    "\n",
    "from tensorflow.keras.models import Sequential\n",
    "from tensorflow.keras.layers import Dense, Activation,Dropout\n",
    "from tensorflow.keras.callbacks import EarlyStopping,TensorBoard"
   ]
  },
  {
   "cell_type": "code",
   "execution_count": 2,
   "metadata": {},
   "outputs": [],
   "source": [
    "df = pd.read_csv('Data/cancer_clsifksn_erlystp_drpout.csv')"
   ]
  },
  {
   "cell_type": "markdown",
   "metadata": {},
   "source": [
    "### Train Test Split"
   ]
  },
  {
   "cell_type": "code",
   "execution_count": 3,
   "metadata": {},
   "outputs": [],
   "source": [
    "X = df.drop('benign_0__mal_1',axis=1).values\n",
    "y = df['benign_0__mal_1'].values"
   ]
  },
  {
   "cell_type": "code",
   "execution_count": 4,
   "metadata": {},
   "outputs": [],
   "source": [
    "X_train, X_test, y_train, y_test = train_test_split(X,y,test_size=0.25,random_state=101)"
   ]
  },
  {
   "cell_type": "markdown",
   "metadata": {},
   "source": [
    "\n",
    "### Scaling Data"
   ]
  },
  {
   "cell_type": "code",
   "execution_count": 5,
   "metadata": {},
   "outputs": [],
   "source": [
    "scaler = MinMaxScaler()"
   ]
  },
  {
   "cell_type": "code",
   "execution_count": 6,
   "metadata": {},
   "outputs": [
    {
     "data": {
      "text/plain": [
       "MinMaxScaler()"
      ]
     },
     "execution_count": 6,
     "metadata": {},
     "output_type": "execute_result"
    }
   ],
   "source": [
    "scaler.fit(X_train)"
   ]
  },
  {
   "cell_type": "code",
   "execution_count": 7,
   "metadata": {},
   "outputs": [],
   "source": [
    "X_train = scaler.transform(X_train)\n",
    "X_test = scaler.transform(X_test)"
   ]
  },
  {
   "cell_type": "markdown",
   "metadata": {},
   "source": [
    "## Creating the Model"
   ]
  },
  {
   "cell_type": "code",
   "execution_count": 8,
   "metadata": {},
   "outputs": [],
   "source": [
    "early_stop = EarlyStopping(monitor='val_loss', mode='min', verbose=1, patience=25)"
   ]
  },
  {
   "cell_type": "code",
   "execution_count": 9,
   "metadata": {},
   "outputs": [
    {
     "data": {
      "text/plain": [
       "'C:\\\\Users\\\\Gabbar\\\\Desktop\\\\Deep-Learning'"
      ]
     },
     "execution_count": 9,
     "metadata": {},
     "output_type": "execute_result"
    }
   ],
   "source": [
    "pwd"
   ]
  },
  {
   "cell_type": "markdown",
   "metadata": {},
   "source": [
    "## Creating the Tensorboard Callback\n",
    "\n",
    "TensorBoard is a visualization tool provided with TensorFlow.\n",
    "\n",
    "This callback logs events for TensorBoard, including:\n",
    "* Metrics summary plots\n",
    "* Training graph visualization\n",
    "* Activation histograms\n",
    "* Sampled profiling\n",
    "\n",
    "If you have installed TensorFlow with pip, you should be able\n",
    "to launch TensorBoard from the command line:\n",
    "\n",
    "```sh\n",
    "tensorboard --logdir=path_to_your_logs\n",
    "```\n",
    "\n",
    "You can find more information about TensorBoard\n",
    "[here](https://www.tensorflow.org/tensorboard/).\n",
    "\n",
    "    Arguments:\n",
    "        log_dir: the path of the directory where to save the log files to be\n",
    "          parsed by TensorBoard.\n",
    "        histogram_freq: frequency (in epochs) at which to compute activation and\n",
    "          weight histograms for the layers of the model. If set to 0, histograms\n",
    "          won't be computed. Validation data (or split) must be specified for\n",
    "          histogram visualizations.\n",
    "        write_graph: whether to visualize the graph in TensorBoard. The log file\n",
    "          can become quite large when write_graph is set to True.\n",
    "        write_images: whether to write model weights to visualize as image in\n",
    "          TensorBoard.\n",
    "        update_freq: `'batch'` or `'epoch'` or integer. When using `'batch'`,\n",
    "          writes the losses and metrics to TensorBoard after each batch. The same\n",
    "          applies for `'epoch'`. If using an integer, let's say `1000`, the\n",
    "          callback will write the metrics and losses to TensorBoard every 1000\n",
    "          samples. Note that writing too frequently to TensorBoard can slow down\n",
    "          your training.\n",
    "        profile_batch: Profile the batch to sample compute characteristics. By\n",
    "          default, it will profile the second batch. Set profile_batch=0 to\n",
    "          disable profiling. Must run in TensorFlow eager mode.\n",
    "        embeddings_freq: frequency (in epochs) at which embedding layers will\n",
    "          be visualized. If set to 0, embeddings won't be visualized.\n",
    "       "
   ]
  },
  {
   "cell_type": "code",
   "execution_count": 10,
   "metadata": {},
   "outputs": [],
   "source": [
    "from datetime import datetime"
   ]
  },
  {
   "cell_type": "code",
   "execution_count": 11,
   "metadata": {},
   "outputs": [
    {
     "data": {
      "text/plain": [
       "'2022-12-08--2308'"
      ]
     },
     "execution_count": 11,
     "metadata": {},
     "output_type": "execute_result"
    }
   ],
   "source": [
    "datetime.now().strftime(\"%Y-%m-%d--%H%M\")"
   ]
  },
  {
   "cell_type": "code",
   "execution_count": 12,
   "metadata": {},
   "outputs": [],
   "source": [
    "# WINDOWS: Use \"logs\\\\fit\"\n",
    "# MACOS/LINUX: Use \"logs\\fit\"\n",
    "\n",
    "log_directory = 'logs\\\\fit'\n",
    "\n",
    "# OPTIONAL: ADD A TIMESTAMP FOR UNIQUE FOLDER\n",
    "timestamp = datetime.now().strftime(\"%Y-%m-%d--%H%M\")\n",
    "log_directory = log_directory + '\\\\' + timestamp\n",
    "\n",
    "\n",
    "board = TensorBoard(log_dir=log_directory,histogram_freq=1,\n",
    "    write_graph=True,\n",
    "    write_images=True,\n",
    "    update_freq='epoch',\n",
    "    profile_batch=2,\n",
    "    embeddings_freq=1)"
   ]
  },
  {
   "cell_type": "markdown",
   "metadata": {},
   "source": [
    "Now create the model layers:"
   ]
  },
  {
   "cell_type": "code",
   "execution_count": 13,
   "metadata": {},
   "outputs": [],
   "source": [
    "model = Sequential()\n",
    "model.add(Dense(units=30,activation='relu'))\n",
    "model.add(Dropout(0.5))\n",
    "model.add(Dense(units=15,activation='relu'))\n",
    "model.add(Dropout(0.5))\n",
    "model.add(Dense(units=1,activation='sigmoid'))\n",
    "model.compile(loss='binary_crossentropy', optimizer='adam')"
   ]
  },
  {
   "cell_type": "markdown",
   "metadata": {},
   "source": [
    "## Train the Model"
   ]
  },
  {
   "cell_type": "code",
   "execution_count": 14,
   "metadata": {},
   "outputs": [
    {
     "name": "stdout",
     "output_type": "stream",
     "text": [
      "Epoch 1/600\n",
      "14/14 [==============================] - 2s 91ms/step - loss: 0.6978 - val_loss: 0.6835\n",
      "Epoch 2/600\n",
      "14/14 [==============================] - 0s 32ms/step - loss: 0.6895 - val_loss: 0.6689\n",
      "Epoch 3/600\n",
      "14/14 [==============================] - 1s 40ms/step - loss: 0.6649 - val_loss: 0.6530\n",
      "Epoch 4/600\n",
      "14/14 [==============================] - 0s 31ms/step - loss: 0.6480 - val_loss: 0.6363\n",
      "Epoch 5/600\n",
      "14/14 [==============================] - 0s 29ms/step - loss: 0.6369 - val_loss: 0.6152\n",
      "Epoch 6/600\n",
      "14/14 [==============================] - 0s 31ms/step - loss: 0.6247 - val_loss: 0.5958\n",
      "Epoch 7/600\n",
      "14/14 [==============================] - 0s 32ms/step - loss: 0.6002 - val_loss: 0.5736\n",
      "Epoch 8/600\n",
      "14/14 [==============================] - 0s 33ms/step - loss: 0.5813 - val_loss: 0.5474\n",
      "Epoch 9/600\n",
      "14/14 [==============================] - 0s 30ms/step - loss: 0.5689 - val_loss: 0.5227\n",
      "Epoch 10/600\n",
      "14/14 [==============================] - 0s 31ms/step - loss: 0.5531 - val_loss: 0.5020\n",
      "Epoch 11/600\n",
      "14/14 [==============================] - 0s 32ms/step - loss: 0.5257 - val_loss: 0.4710\n",
      "Epoch 12/600\n",
      "14/14 [==============================] - 0s 32ms/step - loss: 0.5238 - val_loss: 0.4451\n",
      "Epoch 13/600\n",
      "14/14 [==============================] - 0s 36ms/step - loss: 0.4886 - val_loss: 0.4204\n",
      "Epoch 14/600\n",
      "14/14 [==============================] - 0s 34ms/step - loss: 0.4917 - val_loss: 0.3970\n",
      "Epoch 15/600\n",
      "14/14 [==============================] - 1s 38ms/step - loss: 0.4515 - val_loss: 0.3746\n",
      "Epoch 16/600\n",
      "14/14 [==============================] - 0s 33ms/step - loss: 0.4339 - val_loss: 0.3510\n",
      "Epoch 17/600\n",
      "14/14 [==============================] - 0s 35ms/step - loss: 0.4180 - val_loss: 0.3286\n",
      "Epoch 18/600\n",
      "14/14 [==============================] - 0s 33ms/step - loss: 0.4048 - val_loss: 0.3132\n",
      "Epoch 19/600\n",
      "14/14 [==============================] - 0s 38ms/step - loss: 0.3935 - val_loss: 0.3002\n",
      "Epoch 20/600\n",
      "14/14 [==============================] - 0s 34ms/step - loss: 0.3833 - val_loss: 0.2802\n",
      "Epoch 21/600\n",
      "14/14 [==============================] - 1s 39ms/step - loss: 0.3448 - val_loss: 0.2667\n",
      "Epoch 22/600\n",
      "14/14 [==============================] - 0s 33ms/step - loss: 0.3694 - val_loss: 0.2521\n",
      "Epoch 23/600\n",
      "14/14 [==============================] - 0s 33ms/step - loss: 0.3442 - val_loss: 0.2458\n",
      "Epoch 24/600\n",
      "14/14 [==============================] - 0s 34ms/step - loss: 0.3283 - val_loss: 0.2344\n",
      "Epoch 25/600\n",
      "14/14 [==============================] - 0s 31ms/step - loss: 0.2929 - val_loss: 0.2206\n",
      "Epoch 26/600\n",
      "14/14 [==============================] - 0s 31ms/step - loss: 0.3351 - val_loss: 0.2073\n",
      "Epoch 27/600\n",
      "14/14 [==============================] - 0s 31ms/step - loss: 0.2961 - val_loss: 0.2023\n",
      "Epoch 28/600\n",
      "14/14 [==============================] - 0s 32ms/step - loss: 0.2889 - val_loss: 0.1939\n",
      "Epoch 29/600\n",
      "14/14 [==============================] - 0s 30ms/step - loss: 0.2736 - val_loss: 0.1888\n",
      "Epoch 30/600\n",
      "14/14 [==============================] - 0s 31ms/step - loss: 0.2564 - val_loss: 0.1743\n",
      "Epoch 31/600\n",
      "14/14 [==============================] - 0s 31ms/step - loss: 0.2562 - val_loss: 0.1711\n",
      "Epoch 32/600\n",
      "14/14 [==============================] - 0s 32ms/step - loss: 0.2642 - val_loss: 0.1692\n",
      "Epoch 33/600\n",
      "14/14 [==============================] - 0s 32ms/step - loss: 0.2610 - val_loss: 0.1624\n",
      "Epoch 34/600\n",
      "14/14 [==============================] - 0s 33ms/step - loss: 0.2750 - val_loss: 0.1609\n",
      "Epoch 35/600\n",
      "14/14 [==============================] - 0s 31ms/step - loss: 0.2428 - val_loss: 0.1621\n",
      "Epoch 36/600\n",
      "14/14 [==============================] - 0s 33ms/step - loss: 0.2445 - val_loss: 0.1506\n",
      "Epoch 37/600\n",
      "14/14 [==============================] - 0s 34ms/step - loss: 0.2304 - val_loss: 0.1442\n",
      "Epoch 38/600\n",
      "14/14 [==============================] - 0s 32ms/step - loss: 0.2297 - val_loss: 0.1456\n",
      "Epoch 39/600\n",
      "14/14 [==============================] - 0s 30ms/step - loss: 0.2168 - val_loss: 0.1368\n",
      "Epoch 40/600\n",
      "14/14 [==============================] - 0s 33ms/step - loss: 0.2123 - val_loss: 0.1371\n",
      "Epoch 41/600\n",
      "14/14 [==============================] - 0s 33ms/step - loss: 0.2182 - val_loss: 0.1306\n",
      "Epoch 42/600\n",
      "14/14 [==============================] - 0s 32ms/step - loss: 0.1624 - val_loss: 0.1318\n",
      "Epoch 43/600\n",
      "14/14 [==============================] - 0s 30ms/step - loss: 0.1900 - val_loss: 0.1215\n",
      "Epoch 44/600\n",
      "14/14 [==============================] - 1s 39ms/step - loss: 0.2081 - val_loss: 0.1240\n",
      "Epoch 45/600\n",
      "14/14 [==============================] - 0s 34ms/step - loss: 0.2029 - val_loss: 0.1209\n",
      "Epoch 46/600\n",
      "14/14 [==============================] - 0s 34ms/step - loss: 0.1789 - val_loss: 0.1185\n",
      "Epoch 47/600\n",
      "14/14 [==============================] - 0s 35ms/step - loss: 0.2020 - val_loss: 0.1170\n",
      "Epoch 48/600\n",
      "14/14 [==============================] - 0s 32ms/step - loss: 0.2015 - val_loss: 0.1115\n",
      "Epoch 49/600\n",
      "14/14 [==============================] - 0s 33ms/step - loss: 0.1940 - val_loss: 0.1130\n",
      "Epoch 50/600\n",
      "14/14 [==============================] - 0s 35ms/step - loss: 0.1667 - val_loss: 0.1145\n",
      "Epoch 51/600\n",
      "14/14 [==============================] - 0s 34ms/step - loss: 0.1493 - val_loss: 0.1079\n",
      "Epoch 52/600\n",
      "14/14 [==============================] - 0s 33ms/step - loss: 0.1811 - val_loss: 0.1072\n",
      "Epoch 53/600\n",
      "14/14 [==============================] - 0s 38ms/step - loss: 0.1899 - val_loss: 0.1084\n",
      "Epoch 54/600\n",
      "14/14 [==============================] - 0s 32ms/step - loss: 0.1581 - val_loss: 0.1019\n",
      "Epoch 55/600\n",
      "14/14 [==============================] - 0s 32ms/step - loss: 0.1596 - val_loss: 0.1092\n",
      "Epoch 56/600\n",
      "14/14 [==============================] - 0s 33ms/step - loss: 0.1625 - val_loss: 0.0989\n",
      "Epoch 57/600\n",
      "14/14 [==============================] - 0s 31ms/step - loss: 0.1752 - val_loss: 0.0986\n",
      "Epoch 58/600\n",
      "14/14 [==============================] - 0s 31ms/step - loss: 0.1539 - val_loss: 0.1166\n",
      "Epoch 59/600\n",
      "14/14 [==============================] - 0s 31ms/step - loss: 0.1459 - val_loss: 0.1052\n",
      "Epoch 60/600\n",
      "14/14 [==============================] - 0s 34ms/step - loss: 0.1575 - val_loss: 0.1030\n",
      "Epoch 61/600\n",
      "14/14 [==============================] - 0s 35ms/step - loss: 0.1631 - val_loss: 0.1022\n",
      "Epoch 62/600\n",
      "14/14 [==============================] - 0s 36ms/step - loss: 0.1350 - val_loss: 0.1003\n",
      "Epoch 63/600\n",
      "14/14 [==============================] - 1s 38ms/step - loss: 0.1566 - val_loss: 0.1002\n",
      "Epoch 64/600\n",
      "14/14 [==============================] - 0s 32ms/step - loss: 0.1634 - val_loss: 0.1040\n",
      "Epoch 65/600\n",
      "14/14 [==============================] - 0s 30ms/step - loss: 0.1297 - val_loss: 0.0975\n",
      "Epoch 66/600\n",
      "14/14 [==============================] - 0s 32ms/step - loss: 0.1593 - val_loss: 0.1038\n",
      "Epoch 67/600\n",
      "14/14 [==============================] - 0s 32ms/step - loss: 0.1708 - val_loss: 0.0932\n",
      "Epoch 68/600\n",
      "14/14 [==============================] - 0s 30ms/step - loss: 0.1278 - val_loss: 0.0948\n",
      "Epoch 69/600\n",
      "14/14 [==============================] - 0s 34ms/step - loss: 0.1389 - val_loss: 0.1137\n",
      "Epoch 70/600\n",
      "14/14 [==============================] - 0s 31ms/step - loss: 0.1484 - val_loss: 0.0930\n",
      "Epoch 71/600\n",
      "14/14 [==============================] - 0s 36ms/step - loss: 0.1382 - val_loss: 0.0898\n",
      "Epoch 72/600\n",
      "14/14 [==============================] - 0s 31ms/step - loss: 0.1290 - val_loss: 0.0977\n",
      "Epoch 73/600\n",
      "14/14 [==============================] - 0s 31ms/step - loss: 0.1265 - val_loss: 0.0946\n",
      "Epoch 74/600\n",
      "14/14 [==============================] - 0s 31ms/step - loss: 0.1176 - val_loss: 0.0862\n",
      "Epoch 75/600\n",
      "14/14 [==============================] - 0s 30ms/step - loss: 0.1633 - val_loss: 0.0984\n",
      "Epoch 76/600\n",
      "14/14 [==============================] - 0s 32ms/step - loss: 0.1500 - val_loss: 0.0949\n",
      "Epoch 77/600\n",
      "14/14 [==============================] - 0s 30ms/step - loss: 0.1175 - val_loss: 0.0981\n",
      "Epoch 78/600\n",
      "14/14 [==============================] - 0s 31ms/step - loss: 0.1294 - val_loss: 0.1075\n",
      "Epoch 79/600\n",
      "14/14 [==============================] - 0s 35ms/step - loss: 0.1227 - val_loss: 0.0878\n",
      "Epoch 80/600\n",
      "14/14 [==============================] - 0s 32ms/step - loss: 0.1217 - val_loss: 0.0956\n",
      "Epoch 81/600\n",
      "14/14 [==============================] - 1s 40ms/step - loss: 0.1072 - val_loss: 0.0837\n",
      "Epoch 82/600\n"
     ]
    },
    {
     "name": "stdout",
     "output_type": "stream",
     "text": [
      "14/14 [==============================] - 0s 33ms/step - loss: 0.1124 - val_loss: 0.0839\n",
      "Epoch 83/600\n",
      "14/14 [==============================] - 0s 33ms/step - loss: 0.1362 - val_loss: 0.0842\n",
      "Epoch 84/600\n",
      "14/14 [==============================] - 0s 33ms/step - loss: 0.1182 - val_loss: 0.0878\n",
      "Epoch 85/600\n",
      "14/14 [==============================] - 0s 33ms/step - loss: 0.1182 - val_loss: 0.0866\n",
      "Epoch 86/600\n",
      "14/14 [==============================] - 0s 30ms/step - loss: 0.1212 - val_loss: 0.0974\n",
      "Epoch 87/600\n",
      "14/14 [==============================] - 0s 37ms/step - loss: 0.1202 - val_loss: 0.0842\n",
      "Epoch 88/600\n",
      "14/14 [==============================] - 0s 30ms/step - loss: 0.1324 - val_loss: 0.0885\n",
      "Epoch 89/600\n",
      "14/14 [==============================] - 0s 31ms/step - loss: 0.0998 - val_loss: 0.1032\n",
      "Epoch 90/600\n",
      "14/14 [==============================] - 1s 39ms/step - loss: 0.1165 - val_loss: 0.0839\n",
      "Epoch 91/600\n",
      "14/14 [==============================] - 0s 30ms/step - loss: 0.1120 - val_loss: 0.0831\n",
      "Epoch 92/600\n",
      "14/14 [==============================] - 0s 35ms/step - loss: 0.1257 - val_loss: 0.0887\n",
      "Epoch 93/600\n",
      "14/14 [==============================] - 0s 32ms/step - loss: 0.1259 - val_loss: 0.0907\n",
      "Epoch 94/600\n",
      "14/14 [==============================] - 0s 33ms/step - loss: 0.1165 - val_loss: 0.0858\n",
      "Epoch 95/600\n",
      "14/14 [==============================] - 0s 32ms/step - loss: 0.1210 - val_loss: 0.0889\n",
      "Epoch 96/600\n",
      "14/14 [==============================] - 0s 36ms/step - loss: 0.1290 - val_loss: 0.1085\n",
      "Epoch 97/600\n",
      "14/14 [==============================] - 0s 31ms/step - loss: 0.1352 - val_loss: 0.0865\n",
      "Epoch 98/600\n",
      "14/14 [==============================] - 0s 33ms/step - loss: 0.0938 - val_loss: 0.0834\n",
      "Epoch 99/600\n",
      "14/14 [==============================] - 0s 30ms/step - loss: 0.1325 - val_loss: 0.0988\n",
      "Epoch 100/600\n",
      "14/14 [==============================] - 0s 31ms/step - loss: 0.1082 - val_loss: 0.0899\n",
      "Epoch 101/600\n",
      "14/14 [==============================] - 0s 31ms/step - loss: 0.1151 - val_loss: 0.0919\n",
      "Epoch 102/600\n",
      "14/14 [==============================] - 0s 32ms/step - loss: 0.1035 - val_loss: 0.0866\n",
      "Epoch 103/600\n",
      "14/14 [==============================] - 0s 33ms/step - loss: 0.1123 - val_loss: 0.0925\n",
      "Epoch 104/600\n",
      "14/14 [==============================] - 0s 31ms/step - loss: 0.0964 - val_loss: 0.0826\n",
      "Epoch 105/600\n",
      "14/14 [==============================] - 0s 33ms/step - loss: 0.1061 - val_loss: 0.0889\n",
      "Epoch 106/600\n",
      "14/14 [==============================] - 0s 31ms/step - loss: 0.1209 - val_loss: 0.0846\n",
      "Epoch 107/600\n",
      "14/14 [==============================] - 0s 30ms/step - loss: 0.1005 - val_loss: 0.0903\n",
      "Epoch 108/600\n",
      "14/14 [==============================] - 0s 31ms/step - loss: 0.1160 - val_loss: 0.0873\n",
      "Epoch 109/600\n",
      "14/14 [==============================] - 0s 30ms/step - loss: 0.1162 - val_loss: 0.0953\n",
      "Epoch 110/600\n",
      "14/14 [==============================] - 0s 32ms/step - loss: 0.1059 - val_loss: 0.0801\n",
      "Epoch 111/600\n",
      "14/14 [==============================] - 1s 40ms/step - loss: 0.1027 - val_loss: 0.0828\n",
      "Epoch 112/600\n",
      "14/14 [==============================] - 1s 49ms/step - loss: 0.1105 - val_loss: 0.0886\n",
      "Epoch 113/600\n",
      "14/14 [==============================] - 0s 33ms/step - loss: 0.1262 - val_loss: 0.0802\n",
      "Epoch 114/600\n",
      "14/14 [==============================] - 0s 32ms/step - loss: 0.0885 - val_loss: 0.1004\n",
      "Epoch 115/600\n",
      "14/14 [==============================] - 0s 37ms/step - loss: 0.1116 - val_loss: 0.0929\n",
      "Epoch 116/600\n",
      "14/14 [==============================] - 0s 32ms/step - loss: 0.1001 - val_loss: 0.0931\n",
      "Epoch 117/600\n",
      "14/14 [==============================] - 0s 36ms/step - loss: 0.1030 - val_loss: 0.0775\n",
      "Epoch 118/600\n",
      "14/14 [==============================] - 1s 38ms/step - loss: 0.1010 - val_loss: 0.1008\n",
      "Epoch 119/600\n",
      "14/14 [==============================] - 0s 33ms/step - loss: 0.0911 - val_loss: 0.1040\n",
      "Epoch 120/600\n",
      "14/14 [==============================] - 0s 31ms/step - loss: 0.1095 - val_loss: 0.0885\n",
      "Epoch 121/600\n",
      "14/14 [==============================] - 0s 38ms/step - loss: 0.1019 - val_loss: 0.0910\n",
      "Epoch 122/600\n",
      "14/14 [==============================] - 0s 36ms/step - loss: 0.0964 - val_loss: 0.1040\n",
      "Epoch 123/600\n",
      "14/14 [==============================] - 0s 31ms/step - loss: 0.0994 - val_loss: 0.0838\n",
      "Epoch 124/600\n",
      "14/14 [==============================] - 0s 32ms/step - loss: 0.0968 - val_loss: 0.0827\n",
      "Epoch 125/600\n",
      "14/14 [==============================] - 0s 31ms/step - loss: 0.0995 - val_loss: 0.0862\n",
      "Epoch 126/600\n",
      "14/14 [==============================] - 0s 32ms/step - loss: 0.1132 - val_loss: 0.0915\n",
      "Epoch 127/600\n",
      "14/14 [==============================] - 0s 33ms/step - loss: 0.0854 - val_loss: 0.0822\n",
      "Epoch 128/600\n",
      "14/14 [==============================] - 0s 32ms/step - loss: 0.0855 - val_loss: 0.0929\n",
      "Epoch 129/600\n",
      "14/14 [==============================] - 0s 31ms/step - loss: 0.0824 - val_loss: 0.0924\n",
      "Epoch 130/600\n",
      "14/14 [==============================] - 0s 32ms/step - loss: 0.0975 - val_loss: 0.0850\n",
      "Epoch 131/600\n",
      "14/14 [==============================] - 0s 35ms/step - loss: 0.0793 - val_loss: 0.0847\n",
      "Epoch 132/600\n",
      "14/14 [==============================] - 1s 39ms/step - loss: 0.0828 - val_loss: 0.0866\n",
      "Epoch 133/600\n",
      "14/14 [==============================] - 0s 36ms/step - loss: 0.1077 - val_loss: 0.0924\n",
      "Epoch 134/600\n",
      "14/14 [==============================] - 0s 34ms/step - loss: 0.0882 - val_loss: 0.0886\n",
      "Epoch 135/600\n",
      "14/14 [==============================] - 0s 35ms/step - loss: 0.0945 - val_loss: 0.0942\n",
      "Epoch 136/600\n",
      "14/14 [==============================] - 0s 31ms/step - loss: 0.0843 - val_loss: 0.0856\n",
      "Epoch 137/600\n",
      "14/14 [==============================] - 0s 34ms/step - loss: 0.1025 - val_loss: 0.0788\n",
      "Epoch 138/600\n",
      "14/14 [==============================] - 0s 34ms/step - loss: 0.0901 - val_loss: 0.0839\n",
      "Epoch 139/600\n",
      "14/14 [==============================] - 0s 35ms/step - loss: 0.0936 - val_loss: 0.0940\n",
      "Epoch 140/600\n",
      "14/14 [==============================] - 0s 33ms/step - loss: 0.0791 - val_loss: 0.0981\n",
      "Epoch 141/600\n",
      "14/14 [==============================] - 0s 35ms/step - loss: 0.0981 - val_loss: 0.0791\n",
      "Epoch 142/600\n",
      "14/14 [==============================] - 0s 35ms/step - loss: 0.0951 - val_loss: 0.0839\n",
      "Epoch 142: early stopping\n"
     ]
    },
    {
     "data": {
      "text/plain": [
       "<keras.callbacks.History at 0x17dd9cfe250>"
      ]
     },
     "execution_count": 14,
     "metadata": {},
     "output_type": "execute_result"
    }
   ],
   "source": [
    "model.fit(x=X_train, \n",
    "          y=y_train, \n",
    "          epochs=600,\n",
    "          validation_data=(X_test, y_test), verbose=1,\n",
    "          callbacks=[early_stop,board]\n",
    "          )"
   ]
  },
  {
   "cell_type": "markdown",
   "metadata": {},
   "source": [
    "# Running Tensorboard\n"
   ]
  },
  {
   "cell_type": "markdown",
   "metadata": {},
   "source": [
    "## Running through the Command Line\n",
    "\n",
    "Change dir to current working directory.\n"
   ]
  },
  {
   "cell_type": "markdown",
   "metadata": {},
   "source": [
    "Tensorboard will run locally in your browser at [http://localhost:6006/](http://localhost:6006/)\n"
   ]
  },
  {
   "cell_type": "code",
   "execution_count": 15,
   "metadata": {},
   "outputs": [
    {
     "name": "stdout",
     "output_type": "stream",
     "text": [
      "logs\\fit\\2022-12-08--2308\n"
     ]
    }
   ],
   "source": [
    "print(log_directory)"
   ]
  },
  {
   "cell_type": "code",
   "execution_count": 16,
   "metadata": {},
   "outputs": [
    {
     "data": {
      "text/plain": [
       "'C:\\\\Users\\\\Gabbar\\\\Desktop\\\\Deep-Learning'"
      ]
     },
     "execution_count": 16,
     "metadata": {},
     "output_type": "execute_result"
    }
   ],
   "source": [
    "pwd"
   ]
  },
  {
   "cell_type": "markdown",
   "metadata": {},
   "source": [
    "### Use cd at your command line to change directory to the file path reported back by pwd or your current .py file location.\n",
    "### Then run this code at your anaconda command line or terminal"
   ]
  },
  {
   "cell_type": "markdown",
   "metadata": {},
   "source": [
    "tensorboard --logdir logs\\fit\\2022-12-08--2234 "
   ]
  }
 ],
 "metadata": {
  "kernelspec": {
   "display_name": "Python 3 (ipykernel)",
   "language": "python",
   "name": "python3"
  },
  "language_info": {
   "codemirror_mode": {
    "name": "ipython",
    "version": 3
   },
   "file_extension": ".py",
   "mimetype": "text/x-python",
   "name": "python",
   "nbconvert_exporter": "python",
   "pygments_lexer": "ipython3",
   "version": "3.9.13"
  }
 },
 "nbformat": 4,
 "nbformat_minor": 2
}
